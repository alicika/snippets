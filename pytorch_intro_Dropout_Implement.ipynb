{
 "cells": [
  {
   "cell_type": "code",
   "execution_count": 5,
   "metadata": {
    "collapsed": true,
    "pycharm": {
     "is_executing": false
    }
   },
   "outputs": [],
   "source": [
    "import torch\n",
    "from torchvision import datasets, transforms\n",
    "\n",
    "\n",
    "transform = transforms.Compose([transforms.ToTensor(), \n",
    "                                transforms.Normalize((0.5,), (0.5,))])\n",
    "\n",
    "trainset = datasets.FashionMNIST('~/.pytorch/F_MNIST_data/', download=True, train=True, transform=transform)\n",
    "trainloader = torch.utils.data.DataLoader(trainset, batch_size=64, shuffle=True)\n",
    "\n",
    "testset = datasets.FashionMNIST('~/.pytorch/F_MNIST_data/', download=True, train=False, transform=transform)\n",
    "testloader = torch.utils.data.DataLoader(testset, batch_size=64, shuffle=True)"
   ]
  },
  {
   "cell_type": "code",
   "execution_count": 6,
   "outputs": [],
   "source": [
    "from torch import nn, optim \n",
    "import torch.nn.functional as F\n",
    "\n",
    "class Classifier(nn.Module):\n",
    "    def __init__(self):\n",
    "        super().__init__()\n",
    "        \n",
    "        self.fc1 = nn.Linear(784, 256)\n",
    "        self.fc2 = nn.Linear(256, 128)\n",
    "        self.fc3 = nn.Linear(128, 64)\n",
    "        self.fc4 = nn.Linear(64, 10)\n",
    "    \n",
    "        self.dropout = nn.Dropout(p=0.2)\n",
    "        \n",
    "    def forward(self, x):\n",
    "        x = x.view(x.shape[0], -1)\n",
    "        \n",
    "        x = self.dropout(F.relu(self.fc1(x)))\n",
    "        x = self.dropout(F.relu(self.fc2(x)))\n",
    "        x = self.dropout(F.relu(self.fc3(x)))\n",
    "        \n",
    "        x = F.log_softmax(self.fc4(x), dim=1)\n",
    "        return x"
   ],
   "metadata": {
    "collapsed": false,
    "pycharm": {
     "name": "#%%\n",
     "is_executing": false
    }
   }
  },
  {
   "cell_type": "code",
   "execution_count": 7,
   "outputs": [],
   "source": [
    "model = Classifier()\n",
    "criterion = nn.NLLLoss()\n",
    "optimizer = optim.Adam(model.parameters(), lr=0.003)\n",
    "\n",
    "epochs = 20\n",
    "steps = 10"
   ],
   "metadata": {
    "collapsed": false,
    "pycharm": {
     "name": "#%%\n",
     "is_executing": false
    }
   }
  },
  {
   "cell_type": "code",
   "execution_count": 13,
   "outputs": [
    {
     "name": "stdout",
     "text": [
      "epoch: 1 / 20 Training Loss: 0.411 Test Loss: 2.078 Test Accr:5.212\n",
      "epoch: 2 / 20 Training Loss: 0.408 Test Loss: 2.005 Test Accr:5.222\n",
      "epoch: 3 / 20 Training Loss: 0.394 Test Loss: 1.922 Test Accr:5.258\n",
      "epoch: 4 / 20 Training Loss: 0.392 Test Loss: 2.035 Test Accr:5.240\n",
      "epoch: 5 / 20 Training Loss: 0.395 Test Loss: 1.782 Test Accr:5.328\n",
      "epoch: 6 / 20 Training Loss: 0.382 Test Loss: 1.741 Test Accr:5.332\n",
      "epoch: 7 / 20 Training Loss: 0.380 Test Loss: 1.818 Test Accr:5.316\n",
      "epoch: 8 / 20 Training Loss: 0.378 Test Loss: 1.759 Test Accr:5.315\n",
      "epoch: 9 / 20 Training Loss: 0.376 Test Loss: 1.713 Test Accr:5.368\n",
      "epoch: 10 / 20 Training Loss: 0.371 Test Loss: 1.745 Test Accr:5.333\n",
      "epoch: 11 / 20 Training Loss: 0.368 Test Loss: 1.719 Test Accr:5.329\n",
      "epoch: 12 / 20 Training Loss: 0.367 Test Loss: 1.790 Test Accr:5.317\n",
      "epoch: 13 / 20 Training Loss: 0.363 Test Loss: 1.861 Test Accr:5.279\n",
      "epoch: 14 / 20 Training Loss: 0.362 Test Loss: 1.626 Test Accr:5.365\n",
      "epoch: 15 / 20 Training Loss: 0.363 Test Loss: 1.700 Test Accr:5.331\n",
      "epoch: 16 / 20 Training Loss: 0.353 Test Loss: 1.699 Test Accr:5.369\n",
      "epoch: 17 / 20 Training Loss: 0.351 Test Loss: 1.632 Test Accr:5.361\n",
      "epoch: 18 / 20 Training Loss: 0.355 Test Loss: 1.672 Test Accr:5.370\n",
      "epoch: 19 / 20 Training Loss: 0.351 Test Loss: 1.572 Test Accr:5.392\n",
      "epoch: 20 / 20 Training Loss: 0.349 Test Loss: 1.619 Test Accr:5.391\n"
     ],
     "output_type": "stream"
    }
   ],
   "source": [
    "for e in range(epochs):\n",
    "    running_loss = 0\n",
    "    train_losses ,test_losses = [], []\n",
    "    \n",
    "    for images, labels in trainloader:\n",
    "        images = images.view(images.shape[0], -1)\n",
    "        optimizer.zero_grad()\n",
    "        \n",
    "        output = model(images)\n",
    "        loss = criterion(output, labels)\n",
    "        loss.backward()\n",
    "        optimizer.step()\n",
    "        \n",
    "        running_loss += loss.item()\n",
    "        \n",
    "    else:\n",
    "        test_loss =0\n",
    "        accuracy = 0\n",
    "        \n",
    "        with torch.no_grad():\n",
    "            model.eval()\n",
    "            for images, labels in trainloader:\n",
    "                output = model(images)\n",
    "                test_loss += criterion(output, labels)\n",
    "                \n",
    "                ps = torch.exp(output)\n",
    "                top_p, top_class = ps.topk(1, dim=1)\n",
    "                equals = top_class == labels.view(*top_class.shape)\n",
    "                accuracy += torch.mean(equals.type(torch.FloatTensor))\n",
    "        \n",
    "        model.train()\n",
    "        \n",
    "        train_losses.append(running_loss/len(trainloader))\n",
    "        test_losses.append(test_loss/len(trainloader))\n",
    "        \n",
    "        print(\"epoch: {} / {}\".format(e + 1, epochs), \n",
    "              \"Training Loss: {:.3f}\".format(running_loss/len(trainloader)),\n",
    "              \"Test Loss: {:.3f}\".format(test_loss/len(testloader)),\n",
    "              \"Test Accr:{:.3f}\".format(accuracy/len(testloader)))"
   ],
   "metadata": {
    "collapsed": false,
    "pycharm": {
     "name": "#%%\n",
     "is_executing": false
    }
   }
  },
  {
   "cell_type": "code",
   "execution_count": 14,
   "outputs": [],
   "source": [
    "%matplotlib inline\n",
    "%config InlineBackend.figure_format = 'retina'\n",
    "import matplotlib.pyplot as plt\n"
   ],
   "metadata": {
    "collapsed": false,
    "pycharm": {
     "name": "#%%\n",
     "is_executing": false
    }
   }
  },
  {
   "cell_type": "code",
   "execution_count": 15,
   "outputs": [
    {
     "data": {
      "text/plain": "<matplotlib.legend.Legend at 0x14e853702b0>"
     },
     "metadata": {},
     "output_type": "execute_result",
     "execution_count": 15
    },
    {
     "data": {
      "text/plain": "<Figure size 432x288 with 1 Axes>",
      "image/png": "[encoded data removed]"
     },
     "metadata": {
      "image/png": {
       "width": 378,
       "height": 248
      },
      "needs_background": "light"
     },
     "output_type": "display_data"
    }
   ],
   "source": [
    "plt.plot(train_losses, label='Training Loss: ')\n",
    "plt.plot(test_losses, label='Testing Loss: ')\n",
    "plt.legend(frameon=False)"
   ],
   "metadata": {
    "collapsed": false,
    "pycharm": {
     "name": "#%%\n",
     "is_executing": false
    }
   }
  },
  {
   "cell_type": "code",
   "execution_count": null,
   "outputs": [],
   "source": [
    "\n"
   ],
   "metadata": {
    "collapsed": false,
    "pycharm": {
     "name": "#%%\n"
    }
   }
  }
 ],
 "metadata": {
  "kernelspec": {
   "display_name": "Python 3",
   "language": "python",
   "name": "python3"
  },
  "language_info": {
   "codemirror_mode": {
    "name": "ipython",
    "version": 2
   },
   "file_extension": ".py",
   "mimetype": "text/x-python",
   "name": "python",
   "nbconvert_exporter": "python",
   "pygments_lexer": "ipython2",
   "version": "2.7.6"
  },
  "pycharm": {
   "stem_cell": {
    "cell_type": "raw",
    "source": [],
    "metadata": {
     "collapsed": false
    }
   }
  }
 },
 "nbformat": 4,
 "nbformat_minor": 0
}